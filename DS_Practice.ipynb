{
 "cells": [
  {
   "cell_type": "code",
   "execution_count": 12,
   "metadata": {},
   "outputs": [
    {
     "data": {
      "text/plain": [
       "False"
      ]
     },
     "execution_count": 12,
     "metadata": {},
     "output_type": "execute_result"
    }
   ],
   "source": [
    "def anagram(sone,stwo):\n",
    "    if(sorted(sone) == sorted(stwo)):\n",
    "        return True\n",
    "    return False\n",
    "\n",
    "anagram('raja','ajar')\n",
    "\n"
   ]
  },
  {
   "cell_type": "code",
   "execution_count": null,
   "metadata": {
    "collapsed": true
   },
   "outputs": [],
   "source": []
  },
  {
   "cell_type": "code",
   "execution_count": 25,
   "metadata": {},
   "outputs": [
    {
     "data": {
      "text/plain": [
       "True"
      ]
     },
     "execution_count": 25,
     "metadata": {},
     "output_type": "execute_result"
    }
   ],
   "source": [
    "def anagram2(sone,stwo):\n",
    "    if(len(sone) != len(stwo)):\n",
    "       return False\n",
    "       \n",
    "    count = {}\n",
    "    \n",
    "    for letter in sone:\n",
    "       if letter in count:\n",
    "        count[letter] += 1\n",
    "       else:\n",
    "        count[letter] = 1\n",
    "    \n",
    "    for letter in stwo:\n",
    "        if letter in count:\n",
    "            count[letter] -= 1\n",
    "        else:\n",
    "            count[letter] = 1\n",
    "    \n",
    "    for k in count:\n",
    "        if count[k] != 0:\n",
    "            return False\n",
    "    return True\n",
    "def anagram2('raja','ajar')    "
   ]
  },
  {
   "cell_type": "code",
   "execution_count": 6,
   "metadata": {},
   "outputs": [
    {
     "data": {
      "text/plain": [
       "'(1, 3)\\n(2, 2)'"
      ]
     },
     "execution_count": 6,
     "metadata": {},
     "output_type": "execute_result"
    }
   ],
   "source": [
    "def pair_sum(arr,k):\n",
    "    if(len(arr)<2):\n",
    "        return False\n",
    "    \n",
    "    seen = set()\n",
    "    output = set()\n",
    "    for ele in arr:\n",
    "        target = k - ele\n",
    "        \n",
    "        if target not in seen:\n",
    "            seen.add(ele)\n",
    "        else:\n",
    "            output.add( (min(ele,target), max(ele,target)) )\n",
    "        \n",
    "    return '\\n'.join(map(str,list(output)))\n",
    "\n",
    "\n",
    "pair_sum([1,3,2,2],4)"
   ]
  },
  {
   "cell_type": "code",
   "execution_count": 8,
   "metadata": {},
   "outputs": [
    {
     "data": {
      "text/plain": [
       "3"
      ]
     },
     "execution_count": 8,
     "metadata": {},
     "output_type": "execute_result"
    }
   ],
   "source": [
    "import collections\n",
    "\n",
    "def finder3(arr1, arr2): \n",
    "    \n",
    "    # Using default dict to avoid key errors\n",
    "    d=collections.defaultdict(int) \n",
    "    \n",
    "    # Add a count for every instance in Array 1\n",
    "    for num in arr2:\n",
    "        d[num]+=1 \n",
    "    \n",
    "    # Check if num not in dictionary\n",
    "    for num in arr1: \n",
    "        if d[num]==0: \n",
    "            return num \n",
    "        \n",
    "        # Otherwise, subtract a count\n",
    "        else: d[num]-=1 \n",
    "            \n",
    "            \n",
    "arr1 = [5,8,8,3]\n",
    "arr2 = [5,8,8]\n",
    "\n",
    "finder3(arr1,arr2)"
   ]
  },
  {
   "cell_type": "code",
   "execution_count": null,
   "metadata": {},
   "outputs": [],
   "source": []
  },
  {
   "cell_type": "code",
   "execution_count": null,
   "metadata": {
    "collapsed": true
   },
   "outputs": [],
   "source": [
    "def primeornot(num):\n",
    "    if num > 1:\n",
    "        for i in range(2,num):\n",
    "            if (num % i) == 0:\n",
    "                print(num,\"is not a prime number\")\n",
    "                break\n",
    "        else:\n",
    "                print(num,\"is a prime number\")\n",
    "    "
   ]
  },
  {
   "cell_type": "code",
   "execution_count": 21,
   "metadata": {},
   "outputs": [
    {
     "name": "stdout",
     "output_type": "stream",
     "text": [
      "(9, 'is not a prime number')\n"
     ]
    }
   ],
   "source": [
    "primeornot(9)"
   ]
  },
  {
   "cell_type": "code",
   "execution_count": 2,
   "metadata": {},
   "outputs": [
    {
     "name": "stdout",
     "output_type": "stream",
     "text": [
      "Enter any number: 99\n",
      "(99, 'is not a prime number')\n"
     ]
    }
   ],
   "source": [
    "# taking input from user\n",
    "number = int(input(\"Enter any number: \"))\n",
    "\n",
    "# prime number is always greater than 1\n",
    "if number > 1:\n",
    "    for i in range(2, number//2):\n",
    "        if (number % i) == 0:\n",
    "            print(number, \"is not a prime number\")\n",
    "            break\n",
    "    else:\n",
    "        print(number, \"is a prime number\")\n",
    "\n",
    "# if the entered number is less than or equal to 1\n",
    "# then it is not prime number\n",
    "else:\n",
    "    print(number, \"is not a prime number\")"
   ]
  },
  {
   "cell_type": "code",
   "execution_count": 2,
   "metadata": {},
   "outputs": [
    {
     "data": {
      "text/plain": [
       "'sajar'"
      ]
     },
     "execution_count": 2,
     "metadata": {},
     "output_type": "execute_result"
    }
   ],
   "source": [
    "#Reverse a String\n",
    "def reversal(str):\n",
    "    s = \"\"\n",
    "    for i in str[::-1]:\n",
    "        s += i\n",
    "    return s\n",
    "reversal('rajas')"
   ]
  },
  {
   "cell_type": "code",
   "execution_count": 7,
   "metadata": {},
   "outputs": [
    {
     "data": {
      "text/plain": [
       "True"
      ]
     },
     "execution_count": 7,
     "metadata": {},
     "output_type": "execute_result"
    }
   ],
   "source": [
    "def unique(str):\n",
    "    s = set()\n",
    "    for letter in str:\n",
    "        if letter in s:\n",
    "            print(\"not unique\")\n",
    "            return False\n",
    "        else:\n",
    "            s.add(letter)\n",
    "    return True\n",
    " \n",
    "unique('abcdeg')    "
   ]
  },
  {
   "cell_type": "code",
   "execution_count": 30,
   "metadata": {},
   "outputs": [
    {
     "name": "stdout",
     "output_type": "stream",
     "text": [
      "['A']\n",
      "set(['A'])\n",
      "['A', 'A']\n",
      "set(['A'])\n",
      "['A', 'A', 'B']\n",
      "set(['A', 'B'])\n",
      "['A', 'A', 'B', 'C']\n",
      "set(['A', 'C', 'B'])\n"
     ]
    }
   ],
   "source": [
    "def cpress(str):\n",
    "    l = list()\n",
    "    s = set()\n",
    "    count=0\n",
    "    for element in str:\n",
    "        l.append(element)\n",
    "        s.add(element)\n",
    "        print(l)\n",
    "        print(s)\n",
    "\n",
    "cpress('AABC')\n",
    "\n",
    "        "
   ]
  },
  {
   "cell_type": "code",
   "execution_count": 31,
   "metadata": {},
   "outputs": [
    {
     "name": "stdout",
     "output_type": "stream",
     "text": [
      "no1 sekhar Raja \n"
     ]
    }
   ],
   "source": [
    "def strrev(s):\n",
    "    x = (s.split())\n",
    "    a = \"\"\n",
    "    for i in reversed(x):\n",
    "        a = a + str(i) +\" \"\n",
    "    print (a)\n",
    "\n",
    "strrev('Raja sekhar no1')"
   ]
  },
  {
   "cell_type": "code",
   "execution_count": 75,
   "metadata": {},
   "outputs": [
    {
     "name": "stdout",
     "output_type": "stream",
     "text": [
      "RAA2\n",
      "RA\n"
     ]
    }
   ],
   "source": [
    "def stringcom(strr):\n",
    "    s = set()\n",
    "    count = 1\n",
    "    strg = \"\"\n",
    "    for element in strr:\n",
    "        if element not in s:\n",
    "            s.add(element)\n",
    "            strg += element\n",
    "            c = str(count)\n",
    "            #print(strg+c)\n",
    "        elif element in s:\n",
    "            count +=1\n",
    "            ss = str(count)\n",
    "            yy = element+ss\n",
    "            print(strg+yy)\n",
    "    print(strg)\n",
    "\n",
    "stringcom('RAA')"
   ]
  },
  {
   "cell_type": "code",
   "execution_count": 84,
   "metadata": {},
   "outputs": [
    {
     "data": {
      "text/plain": [
       "1"
      ]
     },
     "execution_count": 84,
     "metadata": {},
     "output_type": "execute_result"
    }
   ],
   "source": [
    "class Stack(object):\n",
    "    def __init__(self):\n",
    "        self.items = []\n",
    "    def isEmpty(self):\n",
    "        return self.items == []\n",
    "    def push(self,item):\n",
    "        self.items.append(item)\n",
    "    def pop(self):\n",
    "        return self.items.pop()\n",
    "    def size(self):\n",
    "        return len(self.items)\n",
    "\n",
    "s = Stack()\n",
    "s.size()\n",
    "s.push(90)\n",
    "s.size()"
   ]
  },
  {
   "cell_type": "code",
   "execution_count": 100,
   "metadata": {},
   "outputs": [
    {
     "name": "stdout",
     "output_type": "stream",
     "text": [
      "2\n"
     ]
    }
   ],
   "source": [
    "#Linked List Implementation\n",
    "\n",
    "class linList(object):\n",
    "    def __init__(self,value):\n",
    "        self.value= value\n",
    "        self.nextnode = None\n",
    "\n",
    "a = linList(1)\n",
    "b = linList(2)\n",
    "c = linList(3)\n",
    "\n",
    "a.nextnode = b\n",
    "b.nextnode = c\n",
    "\n",
    "print a.nextnode.value"
   ]
  },
  {
   "cell_type": "code",
   "execution_count": 8,
   "metadata": {},
   "outputs": [
    {
     "name": "stdout",
     "output_type": "stream",
     "text": [
      "3\n"
     ]
    }
   ],
   "source": [
    "##Double Linked List\n",
    "\n",
    "class doubleList(object):\n",
    "    def __init__(self,value):\n",
    "        self.value= value\n",
    "        self.nextnode = None\n",
    "        self.prevnode = None\n",
    "\n",
    "a = doubleList(1)\n",
    "b = doubleList(2)\n",
    "c = doubleList(3)\n",
    "\n",
    "b.prevnode = a\n",
    "a.nextnode = b\n",
    "\n",
    "b.nextnode = c\n",
    "c.prevnode = b\n",
    "\n",
    "print b.nextnode.value"
   ]
  },
  {
   "cell_type": "code",
   "execution_count": null,
   "metadata": {},
   "outputs": [
    {
     "name": "stdout",
     "output_type": "stream",
     "text": [
      "2\n",
      "3\n",
      "4\n"
     ]
    }
   ],
   "source": [
    "class Node(object):\n",
    "    \n",
    "    def __init__(self,value):\n",
    "        \n",
    "        self.value = value\n",
    "        self.nextnode = None\n",
    "\n",
    "#Reversing Linked List\n",
    "def revList(head):\n",
    "    current = head\n",
    "    nextnode = None\n",
    "    prev = None\n",
    "    \n",
    "    while current:\n",
    "        nextnode = current.nextnode\n",
    "        \n",
    "        current.nextnode = prev\n",
    "        prev = nextnode\n",
    "        nextnode = prev\n",
    "        \n",
    "    return prev\n",
    "        \n",
    "a = Node(1)\n",
    "b = Node(2)\n",
    "c = Node(3)\n",
    "d = Node(4)\n",
    "\n",
    "# Set up order a,b,c,d with values 1,2,3,4\n",
    "a.nextnode = b\n",
    "b.nextnode = c\n",
    "c.nextnode = d\n",
    "\n",
    "print a.nextnode.value\n",
    "print b.nextnode.value\n",
    "print c.nextnode.value\n",
    "\n",
    "revList(a)\n",
    "\n",
    "print d.nextnode.value\n",
    "print c.nextnode.value\n",
    "print b.nextnode.value"
   ]
  },
  {
   "cell_type": "code",
   "execution_count": 9,
   "metadata": {},
   "outputs": [
    {
     "name": "stdout",
     "output_type": "stream",
     "text": [
      "2\n"
     ]
    }
   ],
   "source": [
    "def strrc(mks):\n",
    "    b = []\n",
    "    for letter in mks:\n",
    "        if letter not in b:\n",
    "            b.append(letter)\n",
    "        elif letter in b:\n",
    "            ind = b.index(letter)\n",
    "            b.pop(ind-1)\n",
    "            #print letter\n",
    "            #print ind\n",
    "            b[ind-1] = letter\n",
    "    return len(b)\n",
    "\n",
    "#print(strrc('abcabcbb'))\n",
    "#print(strrc('bbbb'))\n",
    "print(strrc('pwwkew'))"
   ]
  },
  {
   "cell_type": "code",
   "execution_count": 5,
   "metadata": {},
   "outputs": [
    {
     "data": {
      "text/plain": [
       "50000"
      ]
     },
     "execution_count": 5,
     "metadata": {},
     "output_type": "execute_result"
    }
   ],
   "source": [
    "#Max element in a List\n",
    "def smax(arr):\n",
    "    maxi = arr[0]\n",
    "    for i in range(1,len(arr)):\n",
    "        if(arr[i]>maxi):\n",
    "            maxi = arr[i]\n",
    "    return maxi\n",
    "\n",
    "smax([11,2,30,4000,50000])        "
   ]
  },
  {
   "cell_type": "code",
   "execution_count": 20,
   "metadata": {},
   "outputs": [
    {
     "data": {
      "text/plain": [
       "2"
      ]
     },
     "execution_count": 20,
     "metadata": {},
     "output_type": "execute_result"
    }
   ],
   "source": [
    "#Min element in a List\n",
    "def sminx(arr):\n",
    "    maxi = arr[0]\n",
    "    for i in range(1,len(arr)):\n",
    "        if(arr[i]<maxi):\n",
    "            maxi = arr[i]\n",
    "    return maxi\n",
    "\n",
    "sminx([11,2,30,4000,50000])  "
   ]
  },
  {
   "cell_type": "code",
   "execution_count": 9,
   "metadata": {},
   "outputs": [
    {
     "name": "stdout",
     "output_type": "stream",
     "text": [
      "20\n"
     ]
    }
   ],
   "source": [
    "#Second Minimum element in List\n",
    "def sec_min(arr):\n",
    "    mins = arr[0]\n",
    "    second_min = None\n",
    "    for i in range(1,len(arr)):\n",
    "        if(arr[i] < mins): #20<10\n",
    "            second_min = mins  #\n",
    "            mins = arr[i] #\n",
    "        elif second_min == None or second_min > arr[i]: # 40>20\n",
    "            second_min = arr[i] #40\n",
    "    print(second_min)\n",
    "sec_min([10,40,30,20])  "
   ]
  },
  {
   "cell_type": "code",
   "execution_count": 3,
   "metadata": {},
   "outputs": [
    {
     "data": {
      "text/plain": [
       "9"
      ]
     },
     "execution_count": 3,
     "metadata": {},
     "output_type": "execute_result"
    }
   ],
   "source": [
    "def sumodd(arr):\n",
    "    x =0\n",
    "    for i in range(len(arr)):\n",
    "        if arr[i]%2 != 0:\n",
    "            x += arr[i]\n",
    "    return x\n",
    "\n",
    "sumodd([1,2,3,4,5])"
   ]
  },
  {
   "cell_type": "code",
   "execution_count": 14,
   "metadata": {},
   "outputs": [
    {
     "name": "stdout",
     "output_type": "stream",
     "text": [
      "4\n"
     ]
    }
   ],
   "source": [
    "arr = [1,2,3,4]\n",
    "\n",
    "maxi = arr[0]\n",
    "for ele in range(1,len(arr)):\n",
    "#     print(ele)\n",
    "    if(arr[ele]>maxi):\n",
    "        maxi=arr[ele]\n",
    "print(maxi)\n",
    "    "
   ]
  },
  {
   "cell_type": "code",
   "execution_count": null,
   "metadata": {},
   "outputs": [],
   "source": []
  },
  {
   "cell_type": "code",
   "execution_count": null,
   "metadata": {},
   "outputs": [],
   "source": []
  }
 ],
 "metadata": {
  "kernelspec": {
   "display_name": "Python 3",
   "language": "python",
   "name": "python3"
  },
  "language_info": {
   "codemirror_mode": {
    "name": "ipython",
    "version": 3
   },
   "file_extension": ".py",
   "mimetype": "text/x-python",
   "name": "python",
   "nbconvert_exporter": "python",
   "pygments_lexer": "ipython3",
   "version": "3.7.1"
  }
 },
 "nbformat": 4,
 "nbformat_minor": 2
}
