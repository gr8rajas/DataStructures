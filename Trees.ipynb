{
 "cells": [
  {
   "cell_type": "code",
   "execution_count": 7,
   "metadata": {},
   "outputs": [],
   "source": [
    "#Binary Tree Implementatio\n",
    "\n",
    "class BinaryTree(object):\n",
    "    \n",
    "    def __init__(self,root):\n",
    "        self.key = root\n",
    "        self.leftChild = None\n",
    "        self.rightChild = None\n",
    "    \n",
    "    def insertLeft(self, newnode):\n",
    "        if self.leftChild == None:\n",
    "            self.leftChild = BinaryTree(newnode)\n",
    "        else:\n",
    "            t = BinaryTree(newnode)\n",
    "            t.leftChild = self.leftChild\n",
    "            self.leftChild = t\n",
    "    \n",
    "    def insertRight(self,newnode):\n",
    "        if self.rightChild == None:\n",
    "            self.rightChild = BinaryTree(newnode)\n",
    "        else:\n",
    "            t = BinaryTree(newnode)\n",
    "            t.rightChild = self.rightChild\n",
    "            self.rightChild = t\n",
    "    \n",
    "    def getLeft(self):\n",
    "        return self.leftChild\n",
    "    \n",
    "    def getRight(self):\n",
    "        return self.rightChild\n",
    "    \n",
    "    def setRootVal(self,obj):\n",
    "        self.key = obj\n",
    "\n",
    "    def getRootVal(self):\n",
    "        return self.key\n",
    "            "
   ]
  },
  {
   "cell_type": "code",
   "execution_count": 13,
   "metadata": {},
   "outputs": [
    {
     "name": "stdout",
     "output_type": "stream",
     "text": [
      "a\n",
      "None\n",
      "b\n",
      "c\n"
     ]
    }
   ],
   "source": [
    "r = BinaryTree('a')\n",
    "print r.getRootVal()\n",
    "print r.getLeft()\n",
    "r.insertLeft('b')\n",
    "print r.getLeft().getRootVal()\n",
    "r.insertRight('c')\n",
    "print r.getRight().getRootVal()"
   ]
  },
  {
   "cell_type": "code",
   "execution_count": 51,
   "metadata": {},
   "outputs": [],
   "source": [
    "#Binary Search Tree check\n",
    "class Node(object):\n",
    "    def __init__(self,k,val):\n",
    "        self.key = k\n",
    "        self.value = val\n",
    "        self.left = None\n",
    "        self.right = None\n",
    "\n",
    "def TreeMax(node):\n",
    "    if not node:\n",
    "        return float(\"-inf\")    \n",
    "    maxleft = TreeMax(node.left)\n",
    "    maxright = TreeMax(node.right)\n",
    "    return max(maxleft,maxright,node.key)\n",
    "\n",
    "def TreeMin(node):\n",
    "    if not node:\n",
    "        return float(\"inf\")\n",
    "    minleft = TreeMin(node.left)\n",
    "    minright = TreeMin(node.right)\n",
    "    return min(minleft,minright,node.key)\n",
    "\n",
    "def verify(node):\n",
    "    if not node:\n",
    "        return True\n",
    "    if (TreeMax(node.left) <= node.key <= TreeMin(node.right) and verify(node.left) and verify(node.right)):\n",
    "        return True\n",
    "    else:\n",
    "        return False"
   ]
  },
  {
   "cell_type": "code",
   "execution_count": 52,
   "metadata": {},
   "outputs": [
    {
     "name": "stdout",
     "output_type": "stream",
     "text": [
      "True\n",
      "False\n"
     ]
    }
   ],
   "source": [
    "root= Node(10, \"Hello\")\n",
    "root.left = Node(5, \"Five\")\n",
    "root.right= Node(30, \"Thirty\")\n",
    "\n",
    "print verify(root)\n",
    "\n",
    "root = Node(10, \"Ten\")\n",
    "root.right = Node(20, \"Twenty\")\n",
    "root.left = Node(5, \"Five\")\n",
    "root.left.right = Node(15, \"Fifteen\")\n",
    "\n",
    "print(verify(root))"
   ]
  },
  {
   "cell_type": "code",
   "execution_count": 65,
   "metadata": {},
   "outputs": [],
   "source": [
    "# Level Order Print\n",
    "class Node:\n",
    "    def __init__(self, val):\n",
    "        self.left = None\n",
    "        self.right = None\n",
    "        self.val = val"
   ]
  },
  {
   "cell_type": "code",
   "execution_count": 78,
   "metadata": {},
   "outputs": [],
   "source": [
    "# Level Order Print\n",
    "import collections\n",
    "def printTree(tree):\n",
    "    if not tree:\n",
    "        return\n",
    "    nodes = collections.deque([tree])\n",
    "    currentCount,nextCount =1, 0\n",
    "    while len(nodes)!=0:\n",
    "        currentNode = nodes.popleft()\n",
    "        currentCount -=1\n",
    "        print currentNode.val,\n",
    "        \n",
    "        if currentNode.left:\n",
    "            nodes.append(currentNode.left)\n",
    "            nextCount +=1\n",
    "        if currentNode.right:\n",
    "            nodes.append(currentNode.right)\n",
    "            nextCount +=1\n",
    "        \n",
    "        if currentCount ==0:\n",
    "            print '\\n',\n",
    "            currentCount,nextCount = nextCount,currentCount\n",
    "    "
   ]
  },
  {
   "cell_type": "code",
   "execution_count": 79,
   "metadata": {},
   "outputs": [
    {
     "name": "stdout",
     "output_type": "stream",
     "text": [
      "2 \n",
      "1 3 \n",
      "5 4 \n"
     ]
    }
   ],
   "source": [
    "root = Node(2)\n",
    "root.left = Node(1)\n",
    "root.right = Node(3)\n",
    "root.left.right = Node(5)\n",
    "root.right.right = Node(4)\n",
    "\n",
    "printTree(root)"
   ]
  },
  {
   "cell_type": "code",
   "execution_count": 80,
   "metadata": {},
   "outputs": [],
   "source": [
    "#Trim a Binary Search Tree\n",
    "\n",
    "def TrimBinary(tree,Min,Max):\n",
    "    \n",
    "    tree.left = TrimBinary(tree.left,Min,Max)\n",
    "    tree.right = TrimBinary(tree.right,Min,Max)\n",
    "    \n",
    "    if Min <= tree <= Max:\n",
    "        return tree\n",
    "    if Min < tree:\n",
    "        return tree.left\n",
    "    if Max <= tree:\n",
    "        return tree.right"
   ]
  },
  {
   "cell_type": "code",
   "execution_count": null,
   "metadata": {},
   "outputs": [],
   "source": []
  }
 ],
 "metadata": {
  "kernelspec": {
   "display_name": "Python 2",
   "language": "python",
   "name": "python2"
  },
  "language_info": {
   "codemirror_mode": {
    "name": "ipython",
    "version": 2
   },
   "file_extension": ".py",
   "mimetype": "text/x-python",
   "name": "python",
   "nbconvert_exporter": "python",
   "pygments_lexer": "ipython2",
   "version": "2.7.15"
  }
 },
 "nbformat": 4,
 "nbformat_minor": 2
}
